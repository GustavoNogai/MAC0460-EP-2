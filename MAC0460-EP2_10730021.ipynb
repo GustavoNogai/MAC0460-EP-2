{
  "nbformat": 4,
  "nbformat_minor": 0,
  "metadata": {
    "colab": {
      "provenance": []
    },
    "kernelspec": {
      "name": "python3",
      "display_name": "Python 3"
    },
    "language_info": {
      "name": "python"
    }
  },
  "cells": [
    {
      "cell_type": "markdown",
      "source": [
        "# **MAC0460 - EP2**\n",
        "### **Nome:** Gustavo Nogai Saito.\n",
        "### **NUSP:** 10730021.\n",
        "&nbsp;"
      ],
      "metadata": {
        "id": "td02vrFC2RFv"
      }
    },
    {
      "cell_type": "code",
      "source": [
        "from google.colab import files\n",
        "import pandas as pd\n",
        "import io\n",
        "import numpy as np"
      ],
      "metadata": {
        "id": "mwruTUhVZVhl"
      },
      "execution_count": 94,
      "outputs": []
    },
    {
      "cell_type": "markdown",
      "source": [
        "#### **Upload local do dataset \"pokemon.csv\" pelo google colab:**"
      ],
      "metadata": {
        "id": "XAfbRFVlPUNH"
      }
    },
    {
      "cell_type": "code",
      "source": [
        "uploaded = files.upload()\n",
        "\n",
        "df = pd.read_csv(io.BytesIO(uploaded['pokemon.csv']))"
      ],
      "metadata": {
        "id": "Fvft4Lihvn4d"
      },
      "execution_count": null,
      "outputs": []
    },
    {
      "cell_type": "markdown",
      "source": [
        "#### **Trata o csv, escolhendo os atributos relevantes, removendo valores *NaN* e criando o vetor das labels *y*:**"
      ],
      "metadata": {
        "id": "qzbt2tiuPY22"
      }
    },
    {
      "cell_type": "code",
      "source": [
        "x = df.drop(['abilities', 'against_bug', 'against_dark', 'against_dragon', 'against_fairy', 'against_fight', 'against_fire', 'against_flying', 'against_ghost', 'against_grass', 'against_ground', 'against_ice', 'against_normal', 'against_poison', 'against_psychic', 'against_rock', 'against_steel', 'against_water', 'base_egg_steps', 'base_happiness', 'capture_rate', 'classfication', 'type2', 'experience_growth', 'japanese_name', 'name', 'percentage_male', 'pokedex_number', 'generation', 'is_legendary'], inplace=False, axis=1)\n",
        "\n",
        "for col in x:\n",
        "  if col == 'type1':\n",
        "    continue\n",
        "  for i, row in x[col].items():\n",
        "    if np.isnan(x[col][i]):\n",
        "      x = x.drop(index=i)\n",
        "\n",
        "y = []\n",
        "for i, row in (x.iterrows()):\n",
        "  if row.type1 == 'water' or row.type1 == 'normal':\n",
        "    y.append(1)\n",
        "  else:\n",
        "    y.append(0)\n",
        "\n",
        "x = x.drop(['type1'], inplace=False, axis=1)\n"
      ],
      "metadata": {
        "id": "Ufco3ugnw1ik"
      },
      "execution_count": 96,
      "outputs": []
    },
    {
      "cell_type": "markdown",
      "source": [
        "#### **Importa funções comuns aos modelos testados e define a seed para aleatorização:**"
      ],
      "metadata": {
        "id": "5CB0G38KRtX3"
      }
    },
    {
      "cell_type": "code",
      "source": [
        "from sklearn.model_selection import train_test_split\n",
        "from sklearn.model_selection import cross_validate\n",
        "from sklearn.model_selection import GridSearchCV\n",
        "\n",
        "random_seed = None"
      ],
      "metadata": {
        "id": "koxqf-TPwxgZ"
      },
      "execution_count": 97,
      "outputs": []
    },
    {
      "cell_type": "markdown",
      "source": [
        "#### **Separa 90% dos dados para fazer a escolha dos melhores parâmetros e 10% para escolher o melhor modelo**:"
      ],
      "metadata": {
        "id": "2oC5dNBKR_RK"
      }
    },
    {
      "cell_type": "code",
      "source": [
        "x_train, x_test, y_train, y_test = train_test_split(x, y, test_size=0.1, random_state=random_seed)"
      ],
      "metadata": {
        "id": "DzJ802ZeFQ2r"
      },
      "execution_count": 98,
      "outputs": []
    },
    {
      "cell_type": "markdown",
      "source": [
        "# **Para testarmos os parâmetros usaremos o *GridSearchCV* do *sklearn* como recomendado no enunciado.**"
      ],
      "metadata": {
        "id": "MjnT63HTO5ye"
      }
    },
    {
      "cell_type": "markdown",
      "source": [
        "## **Regressão Logística:**"
      ],
      "metadata": {
        "id": "cklRLCKySwox"
      }
    },
    {
      "cell_type": "code",
      "source": [
        "from sklearn.linear_model import LogisticRegression\n",
        "\n",
        "parameters = {'solver':('lbfgs', 'liblinear', 'newton-cg', 'newton-cholesky', 'sag', 'saga')}\n",
        "\n",
        "logReg = LogisticRegression(random_state=random_seed, max_iter=10000)\n",
        "\n",
        "grid = GridSearchCV(logReg, parameters, cv=10, n_jobs=-1, return_train_score=True)\n",
        "\n",
        "grid.fit(x_train, y_train)\n",
        "\n",
        "logReg_best_solver = grid.best_params_['solver']\n",
        "\n",
        "print('Melhor parâmetro de regularização: ' + logReg_best_solver)\n",
        "print(' Acurácia in:  ' + str(grid.cv_results_['mean_train_score'][grid.best_index_]))\n",
        "print(' Acurácia out: ' + str(grid.cv_results_['mean_test_score'][grid.best_index_]))"
      ],
      "metadata": {
        "colab": {
          "base_uri": "https://localhost:8080/"
        },
        "id": "VNdeyAWi7FuX",
        "outputId": "f342bc1a-12f4-4b78-b01f-a26f369cde0d"
      },
      "execution_count": 99,
      "outputs": [
        {
          "output_type": "stream",
          "name": "stdout",
          "text": [
            "Melhor parâmetro de regularização: liblinear\n",
            " Acurácia in:  0.8075362595037012\n",
            " Acurácia out: 0.802112676056338\n"
          ]
        }
      ]
    },
    {
      "cell_type": "markdown",
      "source": [
        "## **Support Vector Machine:**"
      ],
      "metadata": {
        "id": "NP6XaX9NS2XY"
      }
    },
    {
      "cell_type": "code",
      "source": [
        "from sklearn.svm import SVC\n",
        "\n",
        "parameters = {'kernel':('linear', 'poly', 'rbf', 'sigmoid')}\n",
        "\n",
        "svc = SVC(max_iter=-1, random_state=random_seed)\n",
        "\n",
        "grid = GridSearchCV(svc, parameters, cv=10, n_jobs=-1, return_train_score=True)\n",
        "\n",
        "grid.fit(x_train, y_train)\n",
        "\n",
        "svc_best_kernel = grid.best_params_['kernel']\n",
        "\n",
        "print('Melhor kernel: ' + svc_best_kernel)\n",
        "print(' Acurácia in:  ' + str(grid.cv_results_['mean_train_score'][grid.best_index_]))\n",
        "print(' Acurácia out: ' + str(grid.cv_results_['mean_test_score'][grid.best_index_]))"
      ],
      "metadata": {
        "colab": {
          "base_uri": "https://localhost:8080/"
        },
        "id": "jM8TD-rugeq8",
        "outputId": "e1866b3d-80c1-4a98-95e4-4b57a225953d"
      },
      "execution_count": 100,
      "outputs": [
        {
          "output_type": "stream",
          "name": "stdout",
          "text": [
            "Melhor kernel: linear\n",
            " Acurácia in:  0.8097504463479709\n",
            " Acurácia out: 0.8105633802816902\n"
          ]
        }
      ]
    },
    {
      "cell_type": "markdown",
      "source": [
        "## **Decision Tree:**"
      ],
      "metadata": {
        "id": "ZP1QySImS9Tg"
      }
    },
    {
      "cell_type": "code",
      "source": [
        "from sklearn.tree import DecisionTreeClassifier\n",
        "\n",
        "parameters = {'max_depth':(1, 2, 3, 4, 5, 6, 7), 'min_samples_leaf':(1, 2, 3, 4, 5, 6, 7)}\n",
        "\n",
        "dtc = DecisionTreeClassifier(random_state=random_seed)\n",
        "\n",
        "grid = GridSearchCV(dtc, parameters, cv=10, n_jobs=-1, return_train_score=True)\n",
        "\n",
        "grid.fit(x_train, y_train)\n",
        "\n",
        "dtc_best_depth = grid.best_params_['max_depth']\n",
        "dtc_best_minLeaf = grid.best_params_['min_samples_leaf']\n",
        "\n",
        "print('Melhor profundidade da árvore: ' + str(dtc_best_depth))\n",
        "print('Melhor mínimo de amostras para ser uma folha: ' + str(dtc_best_minLeaf))\n",
        "print(' Acurácia in:  ' + str(grid.cv_results_['mean_train_score'][grid.best_index_]))\n",
        "print(' Acurácia out: ' + str(grid.cv_results_['mean_test_score'][grid.best_index_]))"
      ],
      "metadata": {
        "colab": {
          "base_uri": "https://localhost:8080/"
        },
        "id": "pLxFYdFOk38C",
        "outputId": "8f330c66-6bdf-4b3d-d5ce-03b075cabcd8"
      },
      "execution_count": 101,
      "outputs": [
        {
          "output_type": "stream",
          "name": "stdout",
          "text": [
            "Melhor profundidade da árvore: 1\n",
            "Melhor mínimo de amostras para ser uma folha: 1\n",
            " Acurácia in:  0.8091170334409918\n",
            " Acurácia out: 0.8091348088531187\n"
          ]
        }
      ]
    },
    {
      "cell_type": "markdown",
      "source": [
        "## **Random Forest:**"
      ],
      "metadata": {
        "id": "K2OjHjb2S_9f"
      }
    },
    {
      "cell_type": "code",
      "source": [
        "from sklearn.ensemble import RandomForestClassifier\n",
        "\n",
        "parameters = {'n_estimators':(50, 100, 150, 200), 'max_depth':(1, 2, 3, 4, 5, 6, 7, 8, 9, 10), 'min_samples_leaf':(1, 2, 3, 4, 5, 6, 7)}\n",
        "\n",
        "rfc = RandomForestClassifier(n_jobs=-1, random_state=random_seed)\n",
        "\n",
        "grid = GridSearchCV(rfc, parameters, cv=10, n_jobs=-1, return_train_score=True)\n",
        "\n",
        "grid.fit(x_train, y_train)\n",
        "\n",
        "rfc_best_nEstimators = grid.best_params_['n_estimators']\n",
        "rfc_best_depth = grid.best_params_['max_depth']\n",
        "rfc_best_minLeaf = grid.best_params_['min_samples_leaf']\n",
        "\n",
        "print('Melhor número de estimadores: ' + str(rfc_best_nEstimators))\n",
        "print('Melhor profundidade da árvore: ' + str(rfc_best_depth))\n",
        "print('Melhor mínimo de amostras para ser uma folha: ' + str(rfc_best_minLeaf))\n",
        "print(' Acurácia in:  ' + str(grid.cv_results_['mean_train_score'][grid.best_index_]))\n",
        "print(' Acurácia out: ' + str(grid.cv_results_['mean_test_score'][grid.best_index_]))"
      ],
      "metadata": {
        "colab": {
          "base_uri": "https://localhost:8080/"
        },
        "id": "bff3YdESlxCn",
        "outputId": "64d30b25-e9ad-430f-e440-b366c142682a"
      },
      "execution_count": 102,
      "outputs": [
        {
          "output_type": "stream",
          "name": "stdout",
          "text": [
            "Melhor número de estimadores: 200\n",
            "Melhor profundidade da árvore: 7\n",
            "Melhor mínimo de amostras para ser uma folha: 6\n",
            " Acurácia in:  0.8573915725490983\n",
            " Acurácia out: 0.806277665995976\n"
          ]
        }
      ]
    },
    {
      "cell_type": "markdown",
      "source": [
        "## **Extra 1 - Regressão Linear:**"
      ],
      "metadata": {
        "id": "Qpj8co1ZTGu1"
      }
    },
    {
      "cell_type": "code",
      "source": [
        "from sklearn.linear_model import LinearRegression\n",
        "\n",
        "parameters = {'fit_intercept':(True, False)}\n",
        "\n",
        "linReg = LinearRegression()\n",
        "\n",
        "grid = GridSearchCV(linReg, parameters, cv=10, n_jobs=-1, return_train_score=True)\n",
        "\n",
        "grid.fit(x_train, y_train)\n",
        "\n",
        "linReg_best_intercept = grid.best_params_['fit_intercept']\n",
        "\n",
        "print('Melhor opção para o intercept: ' + str(grid.best_params_['fit_intercept']))\n",
        "print(' Acurácia in:  ' + str(grid.cv_results_['mean_train_score'][grid.best_index_]))\n",
        "print(' Acurácia out: ' + str(grid.cv_results_['mean_test_score'][grid.best_index_]))"
      ],
      "metadata": {
        "colab": {
          "base_uri": "https://localhost:8080/"
        },
        "id": "LJ52wf1Gomnw",
        "outputId": "b30f864f-345d-4fab-b70c-e0fcf1d1e766"
      },
      "execution_count": 103,
      "outputs": [
        {
          "output_type": "stream",
          "name": "stdout",
          "text": [
            "Melhor opção para o intercept: False\n",
            " Acurácia in:  0.29650135512743325\n",
            " Acurácia out: 0.27897545846151983\n"
          ]
        }
      ]
    },
    {
      "cell_type": "markdown",
      "source": [
        "## **Extra 2 - Perceptron:**"
      ],
      "metadata": {
        "id": "dSxX_DQlTNjM"
      }
    },
    {
      "cell_type": "code",
      "source": [
        "from sklearn.linear_model import Perceptron\n",
        "\n",
        "parameters = {'penalty':(None,'l2','l1','elasticnet')}\n",
        "\n",
        "percep = Perceptron(random_state=random_seed)\n",
        "\n",
        "grid = GridSearchCV(percep, parameters, cv=10, n_jobs=-1, return_train_score=True)\n",
        "\n",
        "grid.fit(x_train, y_train)\n",
        "\n",
        "percep_best_penalty = grid.best_params_['penalty']\n",
        "\n",
        "print('Melhor parâmetro de regularização: ' + grid.best_params_['penalty'])\n",
        "print(' Acurácia in:  ' + str(grid.cv_results_['mean_train_score'][grid.best_index_]))\n",
        "print(' Acurácia out: ' + str(grid.cv_results_['mean_test_score'][grid.best_index_]))"
      ],
      "metadata": {
        "colab": {
          "base_uri": "https://localhost:8080/"
        },
        "id": "_A1zfHoNqXVe",
        "outputId": "90cdc152-ef2b-476c-d326-48074d3a0245"
      },
      "execution_count": 104,
      "outputs": [
        {
          "output_type": "stream",
          "name": "stdout",
          "text": [
            "Melhor parâmetro de regularização: elasticnet\n",
            " Acurácia in:  0.6783162651206645\n",
            " Acurácia out: 0.6729979879275654\n"
          ]
        }
      ]
    },
    {
      "cell_type": "markdown",
      "source": [
        "## **Escolhendo o melhor modelo com os melhores parâmetros já escolhidos:**"
      ],
      "metadata": {
        "id": "1w-DAGeAm2tc"
      }
    },
    {
      "cell_type": "markdown",
      "source": [
        "### Aqui usaremos a parte do dataset reservada (10%) como teste final para ver qual modelo possui maior acurácia:"
      ],
      "metadata": {
        "id": "46iMxE3zKkmk"
      }
    },
    {
      "cell_type": "code",
      "source": [
        "modelos = ['Logistic_Regression', 'Support_Vector_Machine', 'Decision_Tree', 'Random_Forest', 'Linear_Regression', 'Perceptron']\n",
        "\n",
        "acuracias = []\n",
        "modelos_testados = []\n",
        "\n",
        "for modelo in modelos:\n",
        "  if modelo == 'Logistic_Regression':\n",
        "    clf = LogisticRegression(solver=logReg_best_solver, random_state=random_seed, max_iter=10000)\n",
        "\n",
        "  elif modelo == 'Support_Vector_Machine':\n",
        "    clf = SVC(kernel=svc_best_kernel, max_iter=-1, random_state=random_seed)\n",
        "\n",
        "  elif modelo == 'Decision_Tree':\n",
        "    clf = DecisionTreeClassifier(max_depth=dtc_best_depth, min_samples_leaf=dtc_best_minLeaf, random_state=random_seed)\n",
        "\n",
        "  elif modelo == 'Random_Forest':\n",
        "    clf = RandomForestClassifier(n_estimators=rfc_best_nEstimators, max_depth=rfc_best_depth, min_samples_leaf=rfc_best_minLeaf, n_jobs=-1, random_state=random_seed)\n",
        "\n",
        "  elif modelo == 'Linear_Regression':\n",
        "    clf = LinearRegression(fit_intercept=linReg_best_intercept)\n",
        "\n",
        "  elif modelo == 'Perceptron':\n",
        "    clf = Perceptron(penalty=percep_best_penalty, random_state=random_seed)\n",
        "\n",
        "  clf.fit(x_test, y_test)\n",
        "\n",
        "  acuracias.append(clf.score(x_test, y_test))\n",
        "  modelos_testados.append(modelo)"
      ],
      "metadata": {
        "id": "LNZ3y8uAm221"
      },
      "execution_count": 105,
      "outputs": []
    },
    {
      "cell_type": "markdown",
      "source": [
        "### Vamos ordenar em order decrecente as acurácias de cada modelo testado:"
      ],
      "metadata": {
        "id": "Yd3xrMn-LEyE"
      }
    },
    {
      "cell_type": "code",
      "source": [
        "idx = np.argsort(acuracias)\n",
        "\n",
        "modelos_cresc = np.array(modelos_testados)[idx]\n",
        "modelos_dec = modelos_cresc[::-1]\n",
        "\n",
        "acuracias_cresc = np.array(acuracias)[idx]\n",
        "acuracias_dec = acuracias_cresc[::-1]\n",
        "\n",
        "for i in range(len(acuracias)):\n",
        "  print('\\033[1m' + \"{:>23}\".format(modelos_dec[i] + ':') + '\\033[0m' + '  Acurácia = ' + str(acuracias_dec[i]))\n",
        "  print()"
      ],
      "metadata": {
        "colab": {
          "base_uri": "https://localhost:8080/"
        },
        "id": "kwCXYMEbBmXJ",
        "outputId": "428d90d7-bb9e-4948-9459-9606ee68b9fa"
      },
      "execution_count": 106,
      "outputs": [
        {
          "output_type": "stream",
          "name": "stdout",
          "text": [
            "\u001b[1m         Random_Forest:\u001b[0m  Acurácia = 0.8734177215189873\n",
            "\n",
            "\u001b[1mSupport_Vector_Machine:\u001b[0m  Acurácia = 0.8227848101265823\n",
            "\n",
            "\u001b[1m   Logistic_Regression:\u001b[0m  Acurácia = 0.7721518987341772\n",
            "\n",
            "\u001b[1m         Decision_Tree:\u001b[0m  Acurácia = 0.759493670886076\n",
            "\n",
            "\u001b[1m            Perceptron:\u001b[0m  Acurácia = 0.43037974683544306\n",
            "\n",
            "\u001b[1m     Linear_Regression:\u001b[0m  Acurácia = 0.2994870414381474\n",
            "\n"
          ]
        }
      ]
    },
    {
      "cell_type": "markdown",
      "source": [
        "### Logo, podemos ver que o modelo com melhor acurácia nos testes realizados foi:"
      ],
      "metadata": {
        "id": "PvJqhsKSLO7i"
      }
    },
    {
      "cell_type": "code",
      "source": [
        "print('O modelo com maior acurácia foi o \\033[1m' + modelos_dec[0] + '\\033[0m, apresentando uma acurácia de ' + str(acuracias_dec[0]) + '.')"
      ],
      "metadata": {
        "colab": {
          "base_uri": "https://localhost:8080/"
        },
        "id": "PrBE-xDhLelQ",
        "outputId": "f8b02b90-45c0-4532-e4ee-eba081cf0c54"
      },
      "execution_count": 107,
      "outputs": [
        {
          "output_type": "stream",
          "name": "stdout",
          "text": [
            "O modelo com maior acurácia foi o \u001b[1mRandom_Forest\u001b[0m, apresentando uma acurácia de 0.8734177215189873.\n"
          ]
        }
      ]
    }
  ]
}